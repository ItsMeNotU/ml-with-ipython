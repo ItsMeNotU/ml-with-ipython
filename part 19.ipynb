{
 "cells": [
  {
   "cell_type": "code",
   "execution_count": 1,
   "metadata": {
    "collapsed": false,
    "deletable": true,
    "editable": true
   },
   "outputs": [
    {
     "name": "stderr",
     "output_type": "stream",
     "text": [
      "/usr/local/lib/python3.6/dist-packages/sklearn/cross_validation.py:44: DeprecationWarning: This module was deprecated in version 0.18 in favor of the model_selection module into which all the refactored classes and functions are moved. Also note that the interface of the new CV iterators are different from that of this module. This module will be removed in 0.20.\n  \"This module will be removed in 0.20.\", DeprecationWarning)\n"
     ]
    }
   ],
   "source": [
    "import random\n",
    "import warnings\n",
    "from collections import Counter\n",
    "\n",
    "import matplotlib.pyplot as plt\n",
    "import numpy as np\n",
    "import pandas as pd\n",
    "from IPython.display import Math\n",
    "from matplotlib import style\n",
    "from sklearn import cross_validation, neighbors\n",
    "\n",
    "%matplotlib inline\n",
    "style.use('fivethirtyeight')\n",
    "\n",
    "test_runs = 25"
   ]
  },
  {
   "cell_type": "code",
   "execution_count": 2,
   "metadata": {
    "collapsed": false,
    "deletable": true,
    "editable": true
   },
   "outputs": [
    {
     "name": "stdout",
     "output_type": "stream",
     "text": [
      "0.9687455197132618\n"
     ]
    }
   ],
   "source": [
    "accuracies = []\n",
    "for _ in range(test_runs):\n",
    "    def k_nearest_neighbors(data, predict, k=3):\n",
    "        if len(data) >= k:\n",
    "            warnings.warn(\"K is set to a value less than total voting groups!\")\n",
    "        distances = []\n",
    "        for group in data:\n",
    "            for features in data[group]:\n",
    "                euclidian_distance = np.linalg.norm(np.array(features)-np.array(predict))\n",
    "                distances.append([euclidian_distance, group])\n",
    "                \n",
    "        votes = [i[1] for i in sorted(distances)[:k]]\n",
    "        vote_result = Counter(votes).most_common(1)[0][0]\n",
    "        confidence = Counter(votes).most_common(1)[0][1] / k\n",
    "        return vote_result, confidence\n",
    "    df = pd.read_csv('dataset/breast-cancer-wisconsin.data')\n",
    "    df.replace('?', -99999, inplace=True)\n",
    "    df.drop(['id'], 1, inplace=True)\n",
    "    # to prevent certain columns to be treated as a string\n",
    "    full_data = df.astype(float).values.tolist()\n",
    "    \n",
    "    # Randomise the data\n",
    "    random.shuffle(full_data)\n",
    "    \n",
    "    # split/splice the data\n",
    "    test_size = 0.4\n",
    "    train_set = {\n",
    "        2: [],\n",
    "        4: []\n",
    "    }\n",
    "    test_set = {\n",
    "        2: [],\n",
    "        4: []\n",
    "    }\n",
    "    train_data = full_data[:-int(test_size*len(full_data))]\n",
    "    test_data = full_data[-int(test_size*len(full_data)):]\n",
    "    \n",
    "    # populate the datasets\n",
    "    for i in train_data:\n",
    "        train_set[i[-1]].append(i[:-1])\n",
    "        \n",
    "    for i in test_data:\n",
    "        test_set[i[-1]].append(i[:-1])\n",
    "        \n",
    "        correct = 0\n",
    "    total = 0\n",
    "    \n",
    "    for group in test_set:\n",
    "        for data in test_set[group]:\n",
    "            vote, confidence = k_nearest_neighbors(train_set, data, k=5)\n",
    "            if group == vote:\n",
    "                correct += 1\n",
    "            total += 1\n",
    "    accuracies.append(correct/total)\n",
    "print(sum(accuracies)/len(accuracies))"
   ]
  },
  {
   "cell_type": "code",
   "execution_count": 3,
   "metadata": {},
   "outputs": [
    {
     "name": "stdout",
     "output_type": "stream",
     "text": [
      "0.969428571429\n"
     ]
    }
   ],
   "source": [
    "accuracies = []\n",
    "for _ in range(test_runs):\n",
    "    df = pd.read_csv('dataset/breast-cancer-wisconsin.data')\n",
    "    \n",
    "    # Clean up the dataset as described in names point 8\n",
    "    df.replace('?', -99999, inplace=True)\n",
    "    \n",
    "    # drop tables that are useless\n",
    "    df.drop(['id'], 1, inplace=True)\n",
    "    X = np.array(df.drop(['class'], 1))\n",
    "\n",
    "    # Create the label column\n",
    "    y = np.array(df['class'])\n",
    "    \n",
    "    X_train, X_test, y_train, y_test = cross_validation.train_test_split(X, y, test_size=0.2)\n",
    "    \n",
    "    clf = neighbors.KNeighborsClassifier(n_jobs=8)\n",
    "    clf.fit(X_train, y_train)\n",
    "    accuracy = clf.score(X_test, y_test)\n",
    "    accuracies.append(accuracy)\n",
    "print(sum(accuracies)/len(accuracies))"
   ]
  }
 ],
 "metadata": {
  "kernelspec": {
   "display_name": "Python 3",
   "language": "python",
   "name": "python3"
  },
  "language_info": {
   "codemirror_mode": {
    "name": "ipython",
    "version": 3.0
   },
   "file_extension": ".py",
   "mimetype": "text/x-python",
   "name": "python",
   "nbconvert_exporter": "python",
   "pygments_lexer": "ipython3",
   "version": "3.5.2"
  }
 },
 "nbformat": 4,
 "nbformat_minor": 0
}